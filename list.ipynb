{
 "cells": [
  {
   "cell_type": "code",
   "execution_count": 1,
   "id": "a7d20d48-b987-4d94-9572-6860e3b70bd5",
   "metadata": {},
   "outputs": [],
   "source": [
    "l=[1,2,3,\"soal\",True,False]"
   ]
  },
  {
   "cell_type": "code",
   "execution_count": 2,
   "id": "f9d8ab95-bf13-43f4-926a-f73d2cc8e4e6",
   "metadata": {},
   "outputs": [
    {
     "data": {
      "text/plain": [
       "[1, 2, 3, 'soal', True, False]"
      ]
     },
     "execution_count": 2,
     "metadata": {},
     "output_type": "execute_result"
    }
   ],
   "source": [
    "l"
   ]
  },
  {
   "cell_type": "code",
   "execution_count": 4,
   "id": "e3e3b0df-7cd1-4e54-9a68-0d85e6943e62",
   "metadata": {},
   "outputs": [
    {
     "ename": "TypeError",
     "evalue": "'list' object is not callable",
     "output_type": "error",
     "traceback": [
      "\u001b[0;31m---------------------------------------------------------------------------\u001b[0m",
      "\u001b[0;31mTypeError\u001b[0m                                 Traceback (most recent call last)",
      "Cell \u001b[0;32mIn[4], line 1\u001b[0m\n\u001b[0;32m----> 1\u001b[0m \u001b[43ml\u001b[49m\u001b[43m(\u001b[49m\u001b[38;5;241;43m5\u001b[39;49m\u001b[43m)\u001b[49m\n",
      "\u001b[0;31mTypeError\u001b[0m: 'list' object is not callable"
     ]
    }
   ],
   "source": [
    "l(5)"
   ]
  },
  {
   "cell_type": "code",
   "execution_count": 5,
   "id": "8b959147-8b45-4917-a3d3-d33f114a7a0d",
   "metadata": {},
   "outputs": [
    {
     "ename": "SyntaxError",
     "evalue": "invalid syntax (1278752442.py, line 1)",
     "output_type": "error",
     "traceback": [
      "\u001b[0;36m  Cell \u001b[0;32mIn[5], line 1\u001b[0;36m\u001b[0m\n\u001b[0;31m    l.(5)\u001b[0m\n\u001b[0m      ^\u001b[0m\n\u001b[0;31mSyntaxError\u001b[0m\u001b[0;31m:\u001b[0m invalid syntax\n"
     ]
    }
   ],
   "source": [
    "l.(5)"
   ]
  },
  {
   "cell_type": "code",
   "execution_count": 6,
   "id": "9e75b420-bc9c-400e-a0c4-10960c23da97",
   "metadata": {},
   "outputs": [
    {
     "data": {
      "text/plain": [
       "False"
      ]
     },
     "execution_count": 6,
     "metadata": {},
     "output_type": "execute_result"
    }
   ],
   "source": [
    "l[5]"
   ]
  },
  {
   "cell_type": "code",
   "execution_count": 8,
   "id": "cf5cc8ce-0deb-48dd-8016-2d52c7e023e5",
   "metadata": {},
   "outputs": [
    {
     "data": {
      "text/plain": [
       "[1, 2]"
      ]
     },
     "execution_count": 8,
     "metadata": {},
     "output_type": "execute_result"
    }
   ],
   "source": [
    "l[0:2]"
   ]
  },
  {
   "cell_type": "code",
   "execution_count": 10,
   "id": "0349f463-2ca1-4a9f-a9f1-063a03f7a6f7",
   "metadata": {},
   "outputs": [
    {
     "ename": "SyntaxError",
     "evalue": "invalid syntax (117319202.py, line 1)",
     "output_type": "error",
     "traceback": [
      "\u001b[0;36m  Cell \u001b[0;32mIn[10], line 1\u001b[0;36m\u001b[0m\n\u001b[0;31m    l.[0,1,2]\u001b[0m\n\u001b[0m      ^\u001b[0m\n\u001b[0;31mSyntaxError\u001b[0m\u001b[0;31m:\u001b[0m invalid syntax\n"
     ]
    }
   ],
   "source": [
    "l.[0,1,2]"
   ]
  },
  {
   "cell_type": "code",
   "execution_count": 11,
   "id": "e4cad23a-f59c-4b25-bf49-30a03dda6a2e",
   "metadata": {},
   "outputs": [
    {
     "ename": "SyntaxError",
     "evalue": "invalid syntax (2398754610.py, line 1)",
     "output_type": "error",
     "traceback": [
      "\u001b[0;36m  Cell \u001b[0;32mIn[11], line 1\u001b[0;36m\u001b[0m\n\u001b[0;31m    l[0;3]\u001b[0m\n\u001b[0m       ^\u001b[0m\n\u001b[0;31mSyntaxError\u001b[0m\u001b[0;31m:\u001b[0m invalid syntax\n"
     ]
    }
   ],
   "source": [
    "l[0;3]"
   ]
  },
  {
   "cell_type": "code",
   "execution_count": 12,
   "id": "15183ed0-321c-43c5-a152-45bd74b17662",
   "metadata": {},
   "outputs": [
    {
     "data": {
      "text/plain": [
       "[1, 2, 3, 'soal', True, False]"
      ]
     },
     "execution_count": 12,
     "metadata": {},
     "output_type": "execute_result"
    }
   ],
   "source": [
    "l"
   ]
  },
  {
   "cell_type": "code",
   "execution_count": 14,
   "id": "c6671f38-c698-4785-a61a-8d3c740a9009",
   "metadata": {},
   "outputs": [
    {
     "data": {
      "text/plain": [
       "[1, 2, 3, 'soal']"
      ]
     },
     "execution_count": 14,
     "metadata": {},
     "output_type": "execute_result"
    }
   ],
   "source": [
    "l[0:4]"
   ]
  },
  {
   "cell_type": "code",
   "execution_count": 15,
   "id": "1df627f5-78c7-474a-96a2-3a2a07b60921",
   "metadata": {},
   "outputs": [
    {
     "data": {
      "text/plain": [
       "False"
      ]
     },
     "execution_count": 15,
     "metadata": {},
     "output_type": "execute_result"
    }
   ],
   "source": [
    "l[-1]"
   ]
  },
  {
   "cell_type": "code",
   "execution_count": 16,
   "id": "bfd57819-18bd-4003-979e-ea15792bba94",
   "metadata": {},
   "outputs": [
    {
     "data": {
      "text/plain": [
       "[False, True, 'soal', 3, 2, 1]"
      ]
     },
     "execution_count": 16,
     "metadata": {},
     "output_type": "execute_result"
    }
   ],
   "source": [
    "l[::-1]"
   ]
  },
  {
   "cell_type": "code",
   "execution_count": 19,
   "id": "1d33def1-5f09-4149-9a03-ea7113fe860a",
   "metadata": {},
   "outputs": [
    {
     "data": {
      "text/plain": [
       "[1, 3, True]"
      ]
     },
     "execution_count": 19,
     "metadata": {},
     "output_type": "execute_result"
    }
   ],
   "source": [
    "l[::2]"
   ]
  },
  {
   "cell_type": "code",
   "execution_count": 18,
   "id": "6c67c4ba-856d-411d-97f4-ad5863cf6813",
   "metadata": {},
   "outputs": [
    {
     "data": {
      "text/plain": [
       "[1, 2, 3, 'soal', True, False]"
      ]
     },
     "execution_count": 18,
     "metadata": {},
     "output_type": "execute_result"
    }
   ],
   "source": [
    "l[::1]"
   ]
  },
  {
   "cell_type": "code",
   "execution_count": 20,
   "id": "2782c052-4bd0-49cc-89db-aabca6332856",
   "metadata": {},
   "outputs": [
    {
     "data": {
      "text/plain": [
       "[1, 2, 3, 'soal', True, False]"
      ]
     },
     "execution_count": 20,
     "metadata": {},
     "output_type": "execute_result"
    }
   ],
   "source": [
    "l"
   ]
  },
  {
   "cell_type": "code",
   "execution_count": 21,
   "id": "f8a815a2-d2d1-4d57-9f32-651e2793bb7a",
   "metadata": {},
   "outputs": [],
   "source": [
    "s=\"sonal\""
   ]
  },
  {
   "cell_type": "code",
   "execution_count": 22,
   "id": "683567e6-816c-448d-a761-26b33af49980",
   "metadata": {},
   "outputs": [
    {
     "ename": "TypeError",
     "evalue": "can only concatenate list (not \"str\") to list",
     "output_type": "error",
     "traceback": [
      "\u001b[0;31m---------------------------------------------------------------------------\u001b[0m",
      "\u001b[0;31mTypeError\u001b[0m                                 Traceback (most recent call last)",
      "Cell \u001b[0;32mIn[22], line 1\u001b[0m\n\u001b[0;32m----> 1\u001b[0m \u001b[43ml\u001b[49m\u001b[38;5;241;43m+\u001b[39;49m\u001b[43ms\u001b[49m\n",
      "\u001b[0;31mTypeError\u001b[0m: can only concatenate list (not \"str\") to list"
     ]
    }
   ],
   "source": [
    "l+s"
   ]
  },
  {
   "cell_type": "code",
   "execution_count": 24,
   "id": "72759e9d-a78c-412d-b275-f124d8c79538",
   "metadata": {},
   "outputs": [
    {
     "data": {
      "text/plain": [
       "['s', 'o', 'n', 'a', 'l', 1, 2, 3, 'soal', True, False]"
      ]
     },
     "execution_count": 24,
     "metadata": {},
     "output_type": "execute_result"
    }
   ],
   "source": [
    "list(s)+l"
   ]
  },
  {
   "cell_type": "code",
   "execution_count": 25,
   "id": "ff176989-ee0a-4121-b81f-67dca994c4b4",
   "metadata": {},
   "outputs": [
    {
     "data": {
      "text/plain": [
       "[1, 2, 3, 'soal', True, False]"
      ]
     },
     "execution_count": 25,
     "metadata": {},
     "output_type": "execute_result"
    }
   ],
   "source": [
    "l"
   ]
  },
  {
   "cell_type": "code",
   "execution_count": 26,
   "id": "d3892afb-6134-4901-9da3-31d5e72b4822",
   "metadata": {},
   "outputs": [
    {
     "data": {
      "text/plain": [
       "'soal'"
      ]
     },
     "execution_count": 26,
     "metadata": {},
     "output_type": "execute_result"
    }
   ],
   "source": [
    "l[3]"
   ]
  },
  {
   "cell_type": "code",
   "execution_count": 28,
   "id": "490d124c-e13f-408d-b853-d027f065cea9",
   "metadata": {},
   "outputs": [
    {
     "data": {
      "text/plain": [
       "'so'"
      ]
     },
     "execution_count": 28,
     "metadata": {},
     "output_type": "execute_result"
    }
   ],
   "source": [
    "l[3][0:2]"
   ]
  },
  {
   "cell_type": "code",
   "execution_count": 29,
   "id": "86a7ff18-8c95-4e72-9adb-40f8e06d2d7b",
   "metadata": {},
   "outputs": [
    {
     "data": {
      "text/plain": [
       "True"
      ]
     },
     "execution_count": 29,
     "metadata": {},
     "output_type": "execute_result"
    }
   ],
   "source": [
    "l[4]"
   ]
  },
  {
   "cell_type": "code",
   "execution_count": 30,
   "id": "000422fd-7c8d-4046-a069-dc4e441d5269",
   "metadata": {},
   "outputs": [
    {
     "data": {
      "text/plain": [
       "'True'"
      ]
     },
     "execution_count": 30,
     "metadata": {},
     "output_type": "execute_result"
    }
   ],
   "source": [
    "str(l[4])"
   ]
  },
  {
   "cell_type": "code",
   "execution_count": 31,
   "id": "867b88f3-b8ae-4693-8f5c-dd0b81a7f850",
   "metadata": {},
   "outputs": [
    {
     "data": {
      "text/plain": [
       "'Tru'"
      ]
     },
     "execution_count": 31,
     "metadata": {},
     "output_type": "execute_result"
    }
   ],
   "source": [
    "str(l[4])[0:3]"
   ]
  },
  {
   "cell_type": "code",
   "execution_count": 35,
   "id": "6d9f6328-f7e8-4a7b-9aa8-3651c34ee711",
   "metadata": {},
   "outputs": [],
   "source": [
    "ll=[23,45,67]"
   ]
  },
  {
   "cell_type": "code",
   "execution_count": 37,
   "id": "f415413c-8d89-4e5c-a4fe-aae1489990ea",
   "metadata": {},
   "outputs": [
    {
     "data": {
      "text/plain": [
       "[23, 45, 67]"
      ]
     },
     "execution_count": 37,
     "metadata": {},
     "output_type": "execute_result"
    }
   ],
   "source": [
    "l"
   ]
  },
  {
   "cell_type": "code",
   "execution_count": 38,
   "id": "72610d66-f0e3-488e-879e-57d67e3b0ffa",
   "metadata": {},
   "outputs": [
    {
     "data": {
      "text/plain": [
       "[23, 45, 67]"
      ]
     },
     "execution_count": 38,
     "metadata": {},
     "output_type": "execute_result"
    }
   ],
   "source": [
    "ll"
   ]
  },
  {
   "cell_type": "code",
   "execution_count": 39,
   "id": "bf3fa5c8-d854-4a77-a7e7-401a5d000916",
   "metadata": {},
   "outputs": [],
   "source": [
    "l2=['sonal',True,False,35,87]"
   ]
  },
  {
   "cell_type": "code",
   "execution_count": 40,
   "id": "6dc20cb2-0fd0-4903-8fe2-43c211222623",
   "metadata": {},
   "outputs": [
    {
     "data": {
      "text/plain": [
       "[23, 45, 67, 'sonal', True, False, 35, 87]"
      ]
     },
     "execution_count": 40,
     "metadata": {},
     "output_type": "execute_result"
    }
   ],
   "source": [
    "ll+l2"
   ]
  },
  {
   "cell_type": "code",
   "execution_count": 41,
   "id": "809008fb-b2e7-43cd-86fc-8603f6f0ede4",
   "metadata": {},
   "outputs": [
    {
     "data": {
      "text/plain": [
       "[23, 45, 67, 23, 45, 67, 23, 45, 67]"
      ]
     },
     "execution_count": 41,
     "metadata": {},
     "output_type": "execute_result"
    }
   ],
   "source": [
    "ll*3"
   ]
  },
  {
   "cell_type": "code",
   "execution_count": 42,
   "id": "fe66ff4f-7574-45d9-a72f-9d3ad9f41bc1",
   "metadata": {},
   "outputs": [
    {
     "data": {
      "text/plain": [
       "3"
      ]
     },
     "execution_count": 42,
     "metadata": {},
     "output_type": "execute_result"
    }
   ],
   "source": [
    "len(l)"
   ]
  },
  {
   "cell_type": "code",
   "execution_count": 43,
   "id": "55c68ef9-3241-4480-9538-9fa74be1c2d8",
   "metadata": {},
   "outputs": [],
   "source": [
    "l.append('sonal dwivedi')"
   ]
  },
  {
   "cell_type": "code",
   "execution_count": 44,
   "id": "b62b00c4-2331-4861-9e72-6d44aba1fb12",
   "metadata": {},
   "outputs": [
    {
     "data": {
      "text/plain": [
       "[23, 45, 67, 'sonal dwivedi']"
      ]
     },
     "execution_count": 44,
     "metadata": {},
     "output_type": "execute_result"
    }
   ],
   "source": [
    "l"
   ]
  },
  {
   "cell_type": "code",
   "execution_count": 45,
   "id": "7d060c4f-343d-4d27-bd72-f95ac141d466",
   "metadata": {},
   "outputs": [
    {
     "data": {
      "text/plain": [
       "'sonal'"
      ]
     },
     "execution_count": 45,
     "metadata": {},
     "output_type": "execute_result"
    }
   ],
   "source": [
    "s"
   ]
  },
  {
   "cell_type": "code",
   "execution_count": 46,
   "id": "cfc91488-ff9a-4c1d-99b6-280ec7e70850",
   "metadata": {},
   "outputs": [],
   "source": [
    "l.append(s)"
   ]
  },
  {
   "cell_type": "code",
   "execution_count": 47,
   "id": "da46a68a-b61a-495e-a9ec-8209971d7c12",
   "metadata": {},
   "outputs": [
    {
     "data": {
      "text/plain": [
       "[23, 45, 67, 'sonal dwivedi', 'sonal']"
      ]
     },
     "execution_count": 47,
     "metadata": {},
     "output_type": "execute_result"
    }
   ],
   "source": [
    "l"
   ]
  },
  {
   "cell_type": "code",
   "execution_count": 49,
   "id": "f1148602-47a0-412a-8eff-52d64f262f55",
   "metadata": {},
   "outputs": [],
   "source": [
    "ll.append(l2)"
   ]
  },
  {
   "cell_type": "code",
   "execution_count": 50,
   "id": "a6789bf4-df83-4ea3-a0cf-3407b758ce96",
   "metadata": {},
   "outputs": [
    {
     "data": {
      "text/plain": [
       "[23, 45, 67, ['sonal', True, False, 35, 87]]"
      ]
     },
     "execution_count": 50,
     "metadata": {},
     "output_type": "execute_result"
    }
   ],
   "source": [
    "ll"
   ]
  },
  {
   "cell_type": "code",
   "execution_count": 51,
   "id": "8de47ac4-29e0-4180-acef-e518b95be702",
   "metadata": {},
   "outputs": [
    {
     "data": {
      "text/plain": [
       "'sonal'"
      ]
     },
     "execution_count": 51,
     "metadata": {},
     "output_type": "execute_result"
    }
   ],
   "source": [
    "l[-1]"
   ]
  },
  {
   "cell_type": "code",
   "execution_count": 52,
   "id": "d206e50e-9dd7-4e4e-8957-d7c01b0ca29e",
   "metadata": {},
   "outputs": [],
   "source": [
    "l=[12,34,56,'sonal',True]"
   ]
  },
  {
   "cell_type": "code",
   "execution_count": 54,
   "id": "23b7d39a-aa00-4333-a03d-86d57dc625d6",
   "metadata": {},
   "outputs": [],
   "source": [
    "l.extend('sonal')"
   ]
  },
  {
   "cell_type": "code",
   "execution_count": null,
   "id": "5ec607b6-507c-4065-8114-5811336e3768",
   "metadata": {},
   "outputs": [],
   "source": [
    "l"
   ]
  },
  {
   "cell_type": "code",
   "execution_count": 56,
   "id": "43ad5010-97c4-4792-bbba-d56cba7292d7",
   "metadata": {},
   "outputs": [],
   "source": [
    "l.extend([1,2,3,45])"
   ]
  },
  {
   "cell_type": "code",
   "execution_count": null,
   "id": "c5d9aa9e-7af7-4a24-ac87-63d08e4123e4",
   "metadata": {},
   "outputs": [],
   "source": [
    "l"
   ]
  },
  {
   "cell_type": "code",
   "execution_count": null,
   "id": "6022c88f-9b56-4e10-9f8e-67c6fbe4bb02",
   "metadata": {},
   "outputs": [],
   "source": [
    "l"
   ]
  },
  {
   "cell_type": "code",
   "execution_count": 57,
   "id": "8df549a2-f24c-4bcc-a43f-d6aada8fea82",
   "metadata": {},
   "outputs": [
    {
     "data": {
      "text/plain": [
       "[12, 34, 56, 'sonal', True, 's', 'o', 'n', 'a', 'l', 1, 2, 3, 45]"
      ]
     },
     "execution_count": 57,
     "metadata": {},
     "output_type": "execute_result"
    }
   ],
   "source": [
    "l"
   ]
  },
  {
   "cell_type": "code",
   "execution_count": 58,
   "id": "a09e23c7-ab81-424a-b527-fe5919118bc6",
   "metadata": {},
   "outputs": [
    {
     "data": {
      "text/plain": [
       "[23, 45, 67, ['sonal', True, False, 35, 87]]"
      ]
     },
     "execution_count": 58,
     "metadata": {},
     "output_type": "execute_result"
    }
   ],
   "source": [
    "ll"
   ]
  },
  {
   "cell_type": "code",
   "execution_count": 59,
   "id": "4fba8e04-9723-4404-8a47-029427668364",
   "metadata": {},
   "outputs": [],
   "source": [
    "ll.insert(4,\"class\")"
   ]
  },
  {
   "cell_type": "code",
   "execution_count": 60,
   "id": "2cf76f42-e90c-4a70-be94-11a446f34d10",
   "metadata": {},
   "outputs": [
    {
     "data": {
      "text/plain": [
       "[23, 45, 67, ['sonal', True, False, 35, 87], 'class']"
      ]
     },
     "execution_count": 60,
     "metadata": {},
     "output_type": "execute_result"
    }
   ],
   "source": [
    "ll"
   ]
  },
  {
   "cell_type": "code",
   "execution_count": 67,
   "id": "c1d5be96-2fda-4805-a48b-e6cef092ffb8",
   "metadata": {},
   "outputs": [],
   "source": [
    "ll.remove(23)"
   ]
  },
  {
   "cell_type": "code",
   "execution_count": 69,
   "id": "81761cdd-c394-47ef-a926-60d2355547c3",
   "metadata": {},
   "outputs": [
    {
     "data": {
      "text/plain": [
       "[45, 67]"
      ]
     },
     "execution_count": 69,
     "metadata": {},
     "output_type": "execute_result"
    }
   ],
   "source": [
    "ll"
   ]
  },
  {
   "cell_type": "code",
   "execution_count": 61,
   "id": "416a6733-b204-4bb7-829b-a69a13ca4a54",
   "metadata": {},
   "outputs": [
    {
     "data": {
      "text/plain": [
       "[23, 45, 67, ['sonal', True, False, 35, 87], 'class']"
      ]
     },
     "execution_count": 61,
     "metadata": {},
     "output_type": "execute_result"
    }
   ],
   "source": [
    "ll"
   ]
  },
  {
   "cell_type": "code",
   "execution_count": 62,
   "id": "f25c3abf-d0c8-4d1d-a0d6-4a907a9e1915",
   "metadata": {},
   "outputs": [
    {
     "data": {
      "text/plain": [
       "[23, 45, 67, ['sonal', True, False, 35, 87], 'class']"
      ]
     },
     "execution_count": 62,
     "metadata": {},
     "output_type": "execute_result"
    }
   ],
   "source": [
    "ll"
   ]
  },
  {
   "cell_type": "code",
   "execution_count": 63,
   "id": "3579b8db-a40f-45f4-9e4a-2e50f34e15e3",
   "metadata": {},
   "outputs": [
    {
     "data": {
      "text/plain": [
       "'class'"
      ]
     },
     "execution_count": 63,
     "metadata": {},
     "output_type": "execute_result"
    }
   ],
   "source": [
    "ll.pop()"
   ]
  },
  {
   "cell_type": "code",
   "execution_count": 64,
   "id": "976be4da-b99e-4ae1-b0e0-d9b4edd97d0f",
   "metadata": {},
   "outputs": [
    {
     "data": {
      "text/plain": [
       "[23, 45, 67, ['sonal', True, False, 35, 87]]"
      ]
     },
     "execution_count": 64,
     "metadata": {},
     "output_type": "execute_result"
    }
   ],
   "source": [
    "ll"
   ]
  },
  {
   "cell_type": "code",
   "execution_count": 65,
   "id": "63d5f1b0-09f8-4e6a-8509-9e9ffb94aa03",
   "metadata": {},
   "outputs": [
    {
     "data": {
      "text/plain": [
       "['sonal', True, False, 35, 87]"
      ]
     },
     "execution_count": 65,
     "metadata": {},
     "output_type": "execute_result"
    }
   ],
   "source": [
    "ll.pop(3)"
   ]
  },
  {
   "cell_type": "code",
   "execution_count": 66,
   "id": "08d8e4b4-51bb-47c0-a001-08a88cf7f673",
   "metadata": {},
   "outputs": [
    {
     "data": {
      "text/plain": [
       "[23, 45, 67]"
      ]
     },
     "execution_count": 66,
     "metadata": {},
     "output_type": "execute_result"
    }
   ],
   "source": [
    "ll"
   ]
  },
  {
   "cell_type": "code",
   "execution_count": 70,
   "id": "b3ac139b-bc51-474e-a1a8-210289d9310b",
   "metadata": {},
   "outputs": [
    {
     "data": {
      "text/plain": [
       "[45, 67]"
      ]
     },
     "execution_count": 70,
     "metadata": {},
     "output_type": "execute_result"
    }
   ],
   "source": [
    "ll"
   ]
  },
  {
   "cell_type": "code",
   "execution_count": 71,
   "id": "81a66672-df6f-4443-a04c-8e1b47e1bc57",
   "metadata": {},
   "outputs": [],
   "source": [
    "l2=[0,3,5,2,1,42]"
   ]
  },
  {
   "cell_type": "code",
   "execution_count": 74,
   "id": "ee0e2c5d-73a1-4029-a82c-2b631e8a15f6",
   "metadata": {},
   "outputs": [],
   "source": [
    "l2.sort()"
   ]
  },
  {
   "cell_type": "code",
   "execution_count": null,
   "id": "691aa6f7-9b18-4fc9-866f-d2cc509b328e",
   "metadata": {},
   "outputs": [],
   "source": []
  },
  {
   "cell_type": "code",
   "execution_count": 76,
   "id": "3acf87c2-ad58-492e-8cf6-3fb395cb23aa",
   "metadata": {},
   "outputs": [],
   "source": [
    "l2.sort()"
   ]
  },
  {
   "cell_type": "code",
   "execution_count": 77,
   "id": "f2228931-b4df-4079-80c1-10c113025ffc",
   "metadata": {},
   "outputs": [
    {
     "data": {
      "text/plain": [
       "[0, 1, 2, 3, 5, 42]"
      ]
     },
     "execution_count": 77,
     "metadata": {},
     "output_type": "execute_result"
    }
   ],
   "source": [
    "l2"
   ]
  },
  {
   "cell_type": "code",
   "execution_count": 78,
   "id": "d4957db6-e645-4ba2-86e1-c3db13526bd6",
   "metadata": {},
   "outputs": [],
   "source": [
    "lll=['sonal','seeta','reeta']"
   ]
  },
  {
   "cell_type": "code",
   "execution_count": 79,
   "id": "a83803c2-00ef-457f-bfe4-56679fd735cf",
   "metadata": {},
   "outputs": [
    {
     "data": {
      "text/plain": [
       "['sonal', 'seeta', 'reeta']"
      ]
     },
     "execution_count": 79,
     "metadata": {},
     "output_type": "execute_result"
    }
   ],
   "source": [
    "lll"
   ]
  },
  {
   "cell_type": "code",
   "execution_count": 80,
   "id": "afe02da2-c60e-496b-909f-2ac95505bcbb",
   "metadata": {},
   "outputs": [],
   "source": [
    "lll.sort()"
   ]
  },
  {
   "cell_type": "code",
   "execution_count": 81,
   "id": "e865ff8e-4df4-42bf-b7d4-13f07675011b",
   "metadata": {},
   "outputs": [
    {
     "data": {
      "text/plain": [
       "['reeta', 'seeta', 'sonal']"
      ]
     },
     "execution_count": 81,
     "metadata": {},
     "output_type": "execute_result"
    }
   ],
   "source": [
    "lll"
   ]
  },
  {
   "cell_type": "code",
   "execution_count": 82,
   "id": "a2174956-b13b-4891-8dd6-0d600e34f73c",
   "metadata": {},
   "outputs": [],
   "source": [
    "lll.sort(reverse=True)"
   ]
  },
  {
   "cell_type": "code",
   "execution_count": 83,
   "id": "e29f3c1c-3da2-4883-b2e5-58962eeeedac",
   "metadata": {},
   "outputs": [
    {
     "data": {
      "text/plain": [
       "['sonal', 'seeta', 'reeta']"
      ]
     },
     "execution_count": 83,
     "metadata": {},
     "output_type": "execute_result"
    }
   ],
   "source": [
    "lll"
   ]
  },
  {
   "cell_type": "code",
   "execution_count": 84,
   "id": "6985e4b5-78b3-45bb-8aa9-9558b7362894",
   "metadata": {},
   "outputs": [
    {
     "ename": "AttributeError",
     "evalue": "'list' object has no attribute 'upper'",
     "output_type": "error",
     "traceback": [
      "\u001b[0;31m---------------------------------------------------------------------------\u001b[0m",
      "\u001b[0;31mAttributeError\u001b[0m                            Traceback (most recent call last)",
      "Cell \u001b[0;32mIn[84], line 1\u001b[0m\n\u001b[0;32m----> 1\u001b[0m \u001b[43mlll\u001b[49m\u001b[38;5;241;43m.\u001b[39;49m\u001b[43mupper\u001b[49m()\n",
      "\u001b[0;31mAttributeError\u001b[0m: 'list' object has no attribute 'upper'"
     ]
    }
   ],
   "source": [
    "lll.upper()"
   ]
  },
  {
   "cell_type": "code",
   "execution_count": 85,
   "id": "d1102615-11be-40eb-8caa-d4057fb2ddd7",
   "metadata": {},
   "outputs": [
    {
     "data": {
      "text/plain": [
       "1"
      ]
     },
     "execution_count": 85,
     "metadata": {},
     "output_type": "execute_result"
    }
   ],
   "source": [
    "lll.count('sonal')"
   ]
  },
  {
   "cell_type": "code",
   "execution_count": 86,
   "id": "a237e0c0-d691-443c-b08b-e83e31de8a5a",
   "metadata": {},
   "outputs": [],
   "source": [
    "lll=\"seetaram\""
   ]
  },
  {
   "cell_type": "code",
   "execution_count": 88,
   "id": "165fad5f-165d-48f9-b3c1-9da652d4c2ed",
   "metadata": {},
   "outputs": [
    {
     "data": {
      "text/plain": [
       "'saataram'"
      ]
     },
     "execution_count": 88,
     "metadata": {},
     "output_type": "execute_result"
    }
   ],
   "source": [
    "lll.replace('e','a')"
   ]
  },
  {
   "cell_type": "code",
   "execution_count": 89,
   "id": "164f63be-a913-4a19-9a76-b62bf79e03bf",
   "metadata": {},
   "outputs": [
    {
     "data": {
      "text/plain": [
       "'seetaram'"
      ]
     },
     "execution_count": 89,
     "metadata": {},
     "output_type": "execute_result"
    }
   ],
   "source": [
    "lll"
   ]
  },
  {
   "cell_type": "code",
   "execution_count": 92,
   "id": "3f9a0987-9eff-4fa1-907d-92fa908f71fc",
   "metadata": {},
   "outputs": [],
   "source": [
    "t=('sona',True,12,45.5)"
   ]
  },
  {
   "cell_type": "code",
   "execution_count": 93,
   "id": "bd4c3fb6-1fc1-4a04-834f-be23e0ee5d02",
   "metadata": {},
   "outputs": [
    {
     "data": {
      "text/plain": [
       "('sona', True, 12, 45.5)"
      ]
     },
     "execution_count": 93,
     "metadata": {},
     "output_type": "execute_result"
    }
   ],
   "source": [
    "t"
   ]
  },
  {
   "cell_type": "code",
   "execution_count": 95,
   "id": "a8234f46-5fa9-4ef6-bb9e-eb7876d4f56c",
   "metadata": {},
   "outputs": [
    {
     "data": {
      "text/plain": [
       "45.5"
      ]
     },
     "execution_count": 95,
     "metadata": {},
     "output_type": "execute_result"
    }
   ],
   "source": [
    "t[3]"
   ]
  },
  {
   "cell_type": "code",
   "execution_count": 97,
   "id": "c4560f66-42fc-4f82-bfa4-6b55033fa72f",
   "metadata": {},
   "outputs": [
    {
     "data": {
      "text/plain": [
       "(45.5, 12, True, 'sona')"
      ]
     },
     "execution_count": 97,
     "metadata": {},
     "output_type": "execute_result"
    }
   ],
   "source": [
    "t[::-1]"
   ]
  },
  {
   "cell_type": "code",
   "execution_count": 98,
   "id": "b66c1936-0d17-48f9-bc07-55ab7a958eb9",
   "metadata": {},
   "outputs": [
    {
     "ename": "TypeError",
     "evalue": "'tuple' object does not support item assignment",
     "output_type": "error",
     "traceback": [
      "\u001b[0;31m---------------------------------------------------------------------------\u001b[0m",
      "\u001b[0;31mTypeError\u001b[0m                                 Traceback (most recent call last)",
      "Cell \u001b[0;32mIn[98], line 1\u001b[0m\n\u001b[0;32m----> 1\u001b[0m \u001b[43mt\u001b[49m\u001b[43m[\u001b[49m\u001b[38;5;241;43m0\u001b[39;49m\u001b[43m]\u001b[49m\u001b[38;5;241m=\u001b[39m\u001b[38;5;124m'\u001b[39m\u001b[38;5;124msa\u001b[39m\u001b[38;5;124m'\u001b[39m\n",
      "\u001b[0;31mTypeError\u001b[0m: 'tuple' object does not support item assignment"
     ]
    }
   ],
   "source": [
    "t[0]='sa'"
   ]
  },
  {
   "cell_type": "code",
   "execution_count": 99,
   "id": "8bd699f2-b308-4e3d-92cd-92cbc782a366",
   "metadata": {},
   "outputs": [
    {
     "data": {
      "text/plain": [
       "1"
      ]
     },
     "execution_count": 99,
     "metadata": {},
     "output_type": "execute_result"
    }
   ],
   "source": [
    "t.count(12)"
   ]
  },
  {
   "cell_type": "code",
   "execution_count": 100,
   "id": "26ec05cc-8564-4ec8-93f0-03a4fa99ec61",
   "metadata": {},
   "outputs": [
    {
     "data": {
      "text/plain": [
       "1"
      ]
     },
     "execution_count": 100,
     "metadata": {},
     "output_type": "execute_result"
    }
   ],
   "source": [
    "t.count(True)"
   ]
  },
  {
   "cell_type": "code",
   "execution_count": null,
   "id": "db963804-0c32-41b3-8c71-5419bedbb751",
   "metadata": {},
   "outputs": [],
   "source": []
  }
 ],
 "metadata": {
  "kernelspec": {
   "display_name": "Python 3 (ipykernel)",
   "language": "python",
   "name": "python3"
  },
  "language_info": {
   "codemirror_mode": {
    "name": "ipython",
    "version": 3
   },
   "file_extension": ".py",
   "mimetype": "text/x-python",
   "name": "python",
   "nbconvert_exporter": "python",
   "pygments_lexer": "ipython3",
   "version": "3.10.8"
  }
 },
 "nbformat": 4,
 "nbformat_minor": 5
}
